{
 "cells": [
  {
   "cell_type": "markdown",
   "id": "2326ca16-1cfa-49c2-9db3-70bd7daffe68",
   "metadata": {},
   "source": [
    "## Dataset"
   ]
  },
  {
   "cell_type": "markdown",
   "id": "a1b50212-2ae5-4b15-933e-78b2fcb08df5",
   "metadata": {},
   "source": [
    "### 1. Dataset download"
   ]
  },
  {
   "cell_type": "markdown",
   "id": "470c9bc9-a14b-4b7c-abb3-30877c9376ac",
   "metadata": {},
   "source": [
    "Datasets can be acquired via following links:\n",
    "  \n",
    "  Dataset I MCLID\n",
    "  \n",
    "  Dataset II [ECPC-IDS](https://figshare.com/articles/dataset/ECPC-IDS/23808258) \n",
    "  \n",
    "  Dataset III [Hecktor 2022](https://hecktor.grand-challenge.org/) \n"
   ]
  },
  {
   "cell_type": "markdown",
   "id": "2fbba72b-c1fd-4e35-9dfe-e6f4602e7d80",
   "metadata": {},
   "source": [
    "### 2. Setting up the datasets"
   ]
  },
  {
   "cell_type": "markdown",
   "id": "009ceae3-54d2-4910-afe5-4156942a99cb",
   "metadata": {},
   "source": [
    "First, we need to name and store our data according to the data format required by nnUNet. For example, mcl_001_0000.nii.gz. After manually creating these datasets, we need to generate a dataset.json file. This file specifies the dataset structure for generating the model structure file. \n",
    "\n",
    "For the data format and dataset.json file, refer to the examples provided on [GitHub](https://github.com/MIC-DKFZ/nnUNet/blob/nnunetv1/documentation/dataset_conversion.md) and convert them to your own. You can also refer to [UNETR++](https://github.com/Amshaker/unetr_plus_plus) for path configuration and preprocessing procedues.\n",
    "\r\n",
    "Finally, your folders should be organized as follows:"
   ]
  },
  {
   "cell_type": "raw",
   "id": "f2c935dc-3b09-4d4c-9e6c-16abd93ffd7e",
   "metadata": {},
   "source": [
    "./GepNet/\n",
    "  ./DATASET/\n",
    "    ├── gepnet_raw/\n",
    "        ├── gepnet_raw_data/\n",
    "            ├── Task501_mcl/\n",
    "                ├── imagesTr/\n",
    "                    ├── mcl_001_0000.nii.gz\n",
    "                    ├── mcl_002_0000.nii.gz\n",
    "                    ├── mcl_003_0000.nii.gz\n",
    "                    ├── mcl_004_0000.nii.gz\n",
    "                    ├── mcl_005_0000.nii.gz\n",
    "                    ├── ...\n",
    "                ├── imagesTs/\n",
    "                ├── labelsTr/\n",
    "                    ├── mcl_001.nii.gz\n",
    "                    ├── mcl_002.nii.gz\n",
    "                    ├── mcl_003.nii.gz\n",
    "                    ├── mcl_004.nii.gz\n",
    "                    ├── mcl_005.nii.gz\n",
    "                    ├── ...\n",
    "                ├── labelsTs/\n",
    "                ├── dataset.json\n",
    "        ├── gepnet_cropped_data/\n",
    "    ├── gepnet_preprocessed/\n",
    "    ├── gepnet_trained_models/"
   ]
  },
  {
   "cell_type": "markdown",
   "id": "5a6cc7ff-eb7d-45b1-b3da-f396ae565ee5",
   "metadata": {},
   "source": [
    "After that, you can preprocess the above data using following commands:"
   ]
  },
  {
   "cell_type": "code",
   "execution_count": null,
   "id": "322163bc-3333-4539-b415-c48d78f34812",
   "metadata": {},
   "outputs": [],
   "source": [
    "nnFormer_plan_and_preprocess -t XXX"
   ]
  },
  {
   "cell_type": "markdown",
   "id": "2a196b26-d44c-425a-8d98-9e7fb36d5d99",
   "metadata": {},
   "source": [
    "# Training"
   ]
  },
  {
   "cell_type": "markdown",
   "id": "83ac1ccf-52c5-4750-9b51-85c22cced13a",
   "metadata": {},
   "source": [
    "The following scripts can be used for training our GepNet model on the datasets:"
   ]
  },
  {
   "cell_type": "code",
   "execution_count": null,
   "id": "14b29103-5890-4c60-aef9-b5518b056968",
   "metadata": {},
   "outputs": [],
   "source": [
    "bash training_scripts/run_training_pet.sh"
   ]
  },
  {
   "cell_type": "markdown",
   "id": "97205afb-2665-4ee2-998f-2cb511e391ca",
   "metadata": {},
   "source": [
    "# Evaluation"
   ]
  },
  {
   "cell_type": "markdown",
   "id": "95ce48ef-7d55-4ac1-b0eb-eb64d9b7760a",
   "metadata": {},
   "source": [
    "To reproduce the results of GepNet:\n",
    "\n",
    "Note: Please generate the preprocessing plan for the dataset according to the configuration in Table 1 of the paper.\n"
   ]
  },
  {
   "cell_type": "markdown",
   "id": "17f6f1fd-4898-4bb8-b0cd-6e54f16745c5",
   "metadata": {},
   "source": [
    "1- Download ECPC-IDS weights and paste model_final_checkpoint.model in the following path, using fold 0 as an example:"
   ]
  },
  {
   "cell_type": "code",
   "execution_count": null,
   "id": "91284ecd-cda0-4836-9213-70e7742c9646",
   "metadata": {},
   "outputs": [],
   "source": [
    "GEPNet-main/GepNet_PET/DATASET/gepnet_trained_models/gepnet/3d_fullres/Task503_ecpc/gepnet_trainer_PET__nnFormerPlansv2.1_trgSp_1x1x1/fold_0"
   ]
  },
  {
   "cell_type": "markdown",
   "id": "7cde4221-992c-4c4c-84c1-d6c42db919d5",
   "metadata": {},
   "source": [
    "2- Then, run"
   ]
  },
  {
   "cell_type": "code",
   "execution_count": null,
   "id": "173cfa99-fbdc-41f7-9de8-98b6517371a5",
   "metadata": {},
   "outputs": [],
   "source": [
    "bash evaluation_scripts/run_evaluation_pet.sh"
   ]
  },
  {
   "cell_type": "markdown",
   "id": "e37576be-0c6b-407a-8446-971bcb433658",
   "metadata": {},
   "source": [
    "# Loss function"
   ]
  },
  {
   "cell_type": "code",
   "execution_count": null,
   "id": "4f6d00e9-e280-4f3d-b62a-197c902af622",
   "metadata": {},
   "outputs": [],
   "source": [
    "../gepnet/training/loss_functions/dice_loss.py"
   ]
  },
  {
   "cell_type": "markdown",
   "id": "bc7267ac-3e1b-47b1-85e4-65b26cea53a6",
   "metadata": {},
   "source": [
    "# Calculation of other evaluation indicators"
   ]
  },
  {
   "cell_type": "markdown",
   "id": "efa55e92-467d-4cc5-9cba-65f05e46c4b8",
   "metadata": {},
   "source": [
    "After performing 5-fold cross-validation, you need to create two files: the gt_niftis file contains the ground truth dataset, and the pred_niftis file contains the predicted results dataset. Then, run the command to obtain metrics such as Dice and Jaccard."
   ]
  },
  {
   "cell_type": "code",
   "execution_count": null,
   "id": "d2961677-a9c4-4898-95b6-333871833617",
   "metadata": {},
   "outputs": [],
   "source": [
    "../evaluation_scripts/run_evaluation.sh"
   ]
  }
 ],
 "metadata": {
  "kernelspec": {
   "display_name": "Python 3 (ipykernel)",
   "language": "python",
   "name": "python3"
  },
  "language_info": {
   "codemirror_mode": {
    "name": "ipython",
    "version": 3
   },
   "file_extension": ".py",
   "mimetype": "text/x-python",
   "name": "python",
   "nbconvert_exporter": "python",
   "pygments_lexer": "ipython3",
   "version": "3.11.5"
  }
 },
 "nbformat": 4,
 "nbformat_minor": 5
}
